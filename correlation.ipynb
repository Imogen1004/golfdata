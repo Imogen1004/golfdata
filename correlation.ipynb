{
 "cells": [
  {
   "cell_type": "code",
   "execution_count": 6,
   "id": "720a9a28-25b5-4f81-a602-b4856f21fe98",
   "metadata": {},
   "outputs": [],
   "source": [
    "import psycopg2\n",
    "import pandas as pd"
   ]
  },
  {
   "cell_type": "code",
   "execution_count": 11,
   "id": "31b02360-ddce-4937-b9ce-50ebbf57a0d1",
   "metadata": {},
   "outputs": [],
   "source": [
    "# Establish a connection to the database by creating a cursor object\n",
    "conn = psycopg2.connect(host=\"localhost\", port = 5432, database=\"postgres\", user=\"myusername\", password=\"mypassword\")"
   ]
  },
  {
   "cell_type": "code",
   "execution_count": 12,
   "id": "74d7d8d6-bd94-4b68-839c-1bf2ff077937",
   "metadata": {},
   "outputs": [],
   "source": [
    "# Create a cursor object\n",
    "cur = conn.cursor()"
   ]
  },
  {
   "cell_type": "code",
   "execution_count": 15,
   "id": "e3deb22e-fb3a-4bf4-b8dc-fef00a506210",
   "metadata": {},
   "outputs": [],
   "source": [
    "# A function that takes in a PostgreSQL query and outputs a pandas database \n",
    "def create_pandas_table(sql_query, database = conn):\n",
    "    table = pd.read_sql_query(sql_query, database)\n",
    "    return table"
   ]
  },
  {
   "cell_type": "code",
   "execution_count": 16,
   "id": "76f9531c-a16f-4bf0-9756-3bc0ebb79998",
   "metadata": {},
   "outputs": [
    {
     "name": "stderr",
     "output_type": "stream",
     "text": [
      "/Users/matilda/.local/share/virtualenvs/golf-a7Eg5Gvi/lib/python3.9/site-packages/pandas/io/sql.py:761: UserWarning: pandas only support SQLAlchemy connectable(engine/connection) ordatabase string URI or sqlite3 DBAPI2 connectionother DBAPI2 objects are not tested, please consider using SQLAlchemy\n",
      "  warnings.warn(\n"
     ]
    }
   ],
   "source": [
    "# Utilize the create_pandas_table function to create a Pandas data frame\n",
    "# Store the data as a variable\n",
    "golf_data = create_pandas_table(\"SELECT * FROM golfdata\")"
   ]
  },
  {
   "cell_type": "code",
   "execution_count": 17,
   "id": "36ddcb64-8c70-4df0-a0e7-15520a3af4d1",
   "metadata": {},
   "outputs": [],
   "source": [
    "# Close the cursor and connection to so the server can allocate\n",
    "# bandwidth to other requests\n",
    "cur.close()\n",
    "conn.close()"
   ]
  },
  {
   "cell_type": "code",
   "execution_count": 18,
   "id": "516b015c-021c-4bab-a0af-46a4700c57f6",
   "metadata": {},
   "outputs": [
    {
     "data": {
      "text/html": [
       "<div>\n",
       "<style scoped>\n",
       "    .dataframe tbody tr th:only-of-type {\n",
       "        vertical-align: middle;\n",
       "    }\n",
       "\n",
       "    .dataframe tbody tr th {\n",
       "        vertical-align: top;\n",
       "    }\n",
       "\n",
       "    .dataframe thead th {\n",
       "        text-align: right;\n",
       "    }\n",
       "</style>\n",
       "<table border=\"1\" class=\"dataframe\">\n",
       "  <thead>\n",
       "    <tr style=\"text-align: right;\">\n",
       "      <th></th>\n",
       "      <th>id</th>\n",
       "      <th>height</th>\n",
       "      <th>ball_speed</th>\n",
       "      <th>launch_angle</th>\n",
       "      <th>landing_angle</th>\n",
       "      <th>hang_time</th>\n",
       "      <th>curve</th>\n",
       "      <th>flat_carry</th>\n",
       "      <th>side_angle</th>\n",
       "    </tr>\n",
       "  </thead>\n",
       "  <tbody>\n",
       "    <tr>\n",
       "      <th>0</th>\n",
       "      <td>0</td>\n",
       "      <td>4.154</td>\n",
       "      <td>30.535</td>\n",
       "      <td>14.385</td>\n",
       "      <td>19.239</td>\n",
       "      <td>2.247538</td>\n",
       "      <td>1.107</td>\n",
       "      <td>55.436</td>\n",
       "      <td>16.255</td>\n",
       "    </tr>\n",
       "    <tr>\n",
       "      <th>1</th>\n",
       "      <td>1</td>\n",
       "      <td>26.784</td>\n",
       "      <td>75.244</td>\n",
       "      <td>13.376</td>\n",
       "      <td>29.896</td>\n",
       "      <td>5.923634</td>\n",
       "      <td>-1.787</td>\n",
       "      <td>252.926</td>\n",
       "      <td>-10.907</td>\n",
       "    </tr>\n",
       "    <tr>\n",
       "      <th>2</th>\n",
       "      <td>2</td>\n",
       "      <td>9.919</td>\n",
       "      <td>37.137</td>\n",
       "      <td>17.037</td>\n",
       "      <td>28.795</td>\n",
       "      <td>3.487934</td>\n",
       "      <td>1.574</td>\n",
       "      <td>89.328</td>\n",
       "      <td>5.061</td>\n",
       "    </tr>\n",
       "    <tr>\n",
       "      <th>3</th>\n",
       "      <td>3</td>\n",
       "      <td>6.190</td>\n",
       "      <td>29.751</td>\n",
       "      <td>17.365</td>\n",
       "      <td>26.687</td>\n",
       "      <td>2.799462</td>\n",
       "      <td>3.594</td>\n",
       "      <td>59.930</td>\n",
       "      <td>-7.140</td>\n",
       "    </tr>\n",
       "    <tr>\n",
       "      <th>4</th>\n",
       "      <td>4</td>\n",
       "      <td>19.213</td>\n",
       "      <td>32.710</td>\n",
       "      <td>34.837</td>\n",
       "      <td>45.414</td>\n",
       "      <td>4.320254</td>\n",
       "      <td>9.020</td>\n",
       "      <td>85.004</td>\n",
       "      <td>-8.246</td>\n",
       "    </tr>\n",
       "    <tr>\n",
       "      <th>...</th>\n",
       "      <td>...</td>\n",
       "      <td>...</td>\n",
       "      <td>...</td>\n",
       "      <td>...</td>\n",
       "      <td>...</td>\n",
       "      <td>...</td>\n",
       "      <td>...</td>\n",
       "      <td>...</td>\n",
       "      <td>...</td>\n",
       "    </tr>\n",
       "    <tr>\n",
       "      <th>9995</th>\n",
       "      <td>9995</td>\n",
       "      <td>17.001</td>\n",
       "      <td>39.466</td>\n",
       "      <td>23.044</td>\n",
       "      <td>40.312</td>\n",
       "      <td>4.336652</td>\n",
       "      <td>-0.756</td>\n",
       "      <td>93.255</td>\n",
       "      <td>7.415</td>\n",
       "    </tr>\n",
       "    <tr>\n",
       "      <th>9996</th>\n",
       "      <td>9996</td>\n",
       "      <td>9.642</td>\n",
       "      <td>34.010</td>\n",
       "      <td>17.115</td>\n",
       "      <td>33.684</td>\n",
       "      <td>3.625266</td>\n",
       "      <td>-6.692</td>\n",
       "      <td>76.638</td>\n",
       "      <td>-19.576</td>\n",
       "    </tr>\n",
       "    <tr>\n",
       "      <th>9997</th>\n",
       "      <td>9997</td>\n",
       "      <td>12.769</td>\n",
       "      <td>33.651</td>\n",
       "      <td>22.115</td>\n",
       "      <td>41.464</td>\n",
       "      <td>4.007329</td>\n",
       "      <td>11.634</td>\n",
       "      <td>78.381</td>\n",
       "      <td>-15.360</td>\n",
       "    </tr>\n",
       "    <tr>\n",
       "      <th>9998</th>\n",
       "      <td>9998</td>\n",
       "      <td>8.514</td>\n",
       "      <td>25.238</td>\n",
       "      <td>26.771</td>\n",
       "      <td>40.530</td>\n",
       "      <td>3.094743</td>\n",
       "      <td>-4.503</td>\n",
       "      <td>47.787</td>\n",
       "      <td>-10.846</td>\n",
       "    </tr>\n",
       "    <tr>\n",
       "      <th>9999</th>\n",
       "      <td>9999</td>\n",
       "      <td>18.418</td>\n",
       "      <td>50.636</td>\n",
       "      <td>12.058</td>\n",
       "      <td>40.952</td>\n",
       "      <td>5.334192</td>\n",
       "      <td>1.645</td>\n",
       "      <td>138.544</td>\n",
       "      <td>-5.897</td>\n",
       "    </tr>\n",
       "  </tbody>\n",
       "</table>\n",
       "<p>10000 rows × 9 columns</p>\n",
       "</div>"
      ],
      "text/plain": [
       "        id  height  ball_speed  launch_angle  landing_angle  hang_time  \\\n",
       "0        0   4.154      30.535        14.385         19.239   2.247538   \n",
       "1        1  26.784      75.244        13.376         29.896   5.923634   \n",
       "2        2   9.919      37.137        17.037         28.795   3.487934   \n",
       "3        3   6.190      29.751        17.365         26.687   2.799462   \n",
       "4        4  19.213      32.710        34.837         45.414   4.320254   \n",
       "...    ...     ...         ...           ...            ...        ...   \n",
       "9995  9995  17.001      39.466        23.044         40.312   4.336652   \n",
       "9996  9996   9.642      34.010        17.115         33.684   3.625266   \n",
       "9997  9997  12.769      33.651        22.115         41.464   4.007329   \n",
       "9998  9998   8.514      25.238        26.771         40.530   3.094743   \n",
       "9999  9999  18.418      50.636        12.058         40.952   5.334192   \n",
       "\n",
       "       curve  flat_carry  side_angle  \n",
       "0      1.107      55.436      16.255  \n",
       "1     -1.787     252.926     -10.907  \n",
       "2      1.574      89.328       5.061  \n",
       "3      3.594      59.930      -7.140  \n",
       "4      9.020      85.004      -8.246  \n",
       "...      ...         ...         ...  \n",
       "9995  -0.756      93.255       7.415  \n",
       "9996  -6.692      76.638     -19.576  \n",
       "9997  11.634      78.381     -15.360  \n",
       "9998  -4.503      47.787     -10.846  \n",
       "9999   1.645     138.544      -5.897  \n",
       "\n",
       "[10000 rows x 9 columns]"
      ]
     },
     "execution_count": 18,
     "metadata": {},
     "output_type": "execute_result"
    }
   ],
   "source": [
    "golf_data"
   ]
  },
  {
   "cell_type": "code",
   "execution_count": 21,
   "id": "68b13367-f3e3-46a1-9553-d27a19889bfd",
   "metadata": {},
   "outputs": [],
   "source": [
    "#drop the index column\n",
    "df=golf_data.drop(['id'], axis = 1)"
   ]
  },
  {
   "cell_type": "code",
   "execution_count": 20,
   "id": "fc58aa23-e4a8-402c-a6d5-7c0c41e15aec",
   "metadata": {},
   "outputs": [
    {
     "data": {
      "text/plain": [
       "<AxesSubplot:>"
      ]
     },
     "execution_count": 20,
     "metadata": {},
     "output_type": "execute_result"
    },
    {
     "data": {
      "image/png": "[encoded data removed]",
      "text/plain": [
       "<Figure size 1080x1080 with 2 Axes>"
      ]
     },
     "metadata": {
      "needs_background": "light"
     },
     "output_type": "display_data"
    }
   ],
   "source": [
    "import seaborn as sns\n",
    "import matplotlib.pyplot as plt\n",
    "\n",
    "fig, ax = plt.subplots(figsize=(15,15))     \n",
    "sns.heatmap(df.corr(),annot = True, cmap='Blues',ax = ax)"
   ]
  },
  {
   "cell_type": "markdown",
   "id": "599a0107-6ce7-48ac-b453-adca50881e2a",
   "metadata": {
    "tags": []
   },
   "source": [
    "### From the correlation matrix, we can see that flat carry has high correlation with curve (-0.58), ball speed and height has correlation of 0.34, landing angle and ball speed has a correlation of 0.25."
   ]
  },
  {
   "cell_type": "code",
   "execution_count": null,
   "id": "28ec8cd3-f613-4343-9935-ba870f9a8939",
   "metadata": {},
   "outputs": [],
   "source": []
  }
 ],
 "metadata": {
  "kernelspec": {
   "display_name": "Python 3 (ipykernel)",
   "language": "python",
   "name": "python3"
  },
  "language_info": {
   "codemirror_mode": {
    "name": "ipython",
    "version": 3
   },
   "file_extension": ".py",
   "mimetype": "text/x-python",
   "name": "python",
   "nbconvert_exporter": "python",
   "pygments_lexer": "ipython3",
   "version": "3.9.10"
  }
 },
 "nbformat": 4,
 "nbformat_minor": 5
}
